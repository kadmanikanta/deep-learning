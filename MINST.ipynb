{
  "nbformat": 4,
  "nbformat_minor": 0,
  "metadata": {
    "colab": {
      "provenance": [],
      "authorship_tag": "ABX9TyPicHJNzp//JZu79TbXhNwJ",
      "include_colab_link": true
    },
    "kernelspec": {
      "name": "python3",
      "display_name": "Python 3"
    },
    "language_info": {
      "name": "python"
    }
  },
  "cells": [
    {
      "cell_type": "markdown",
      "metadata": {
        "id": "view-in-github",
        "colab_type": "text"
      },
      "source": [
        "<a href=\"https://colab.research.google.com/github/kadmanikanta/deep-learning/blob/main/MINST.ipynb\" target=\"_parent\"><img src=\"https://colab.research.google.com/assets/colab-badge.svg\" alt=\"Open In Colab\"/></a>"
      ]
    },
    {
      "cell_type": "code",
      "source": [
        "\n",
        "from sklearn.model_selection import GridSearchCV, RandomizedSearchCV, train_test_split\n",
        "from sklearn.metrics import accuracy_score, f1_score\n",
        "from keras.datasets import mnist\n",
        "from keras.models import Sequential\n",
        "from keras.layers import Dense, Flatten\n",
        "import numpy as np\n",
        "import matplotlib.pyplot as plt"
      ],
      "metadata": {
        "id": "NmcCZi4jxCC_"
      },
      "execution_count": null,
      "outputs": []
    },
    {
      "cell_type": "code",
      "source": [
        "# Load and preprocess the MNIST dataset\n",
        "(X_train, y_train), (X_test, y_test) = mnist.load_data()\n",
        "X_train = X_train.astype('float32') / 255.0\n",
        "X_test = X_test.astype('float32') / 255.0\n",
        "X_train = X_train.reshape(-1, 28, 28, 1)\n",
        "X_test = X_test.reshape(-1, 28, 28, 1)"
      ],
      "metadata": {
        "id": "6L-5ZIt8xCKX"
      },
      "execution_count": null,
      "outputs": []
    },
    {
      "cell_type": "code",
      "source": [
        "X_train, X_val, y_train, y_val = train_test_split(X_train, y_train, test_size=0.2, random_state=42)\n"
      ],
      "metadata": {
        "id": "FP0inWpBxCOH"
      },
      "execution_count": null,
      "outputs": []
    },
    {
      "cell_type": "code",
      "source": [
        "# Define the dense model architecture\n",
        "model = keras.Sequential([\n",
        "    Dense(512, activation='relu', input_shape=(784,)),\n",
        "    Dense(10, activation='softmax')\n",
        "])"
      ],
      "metadata": {
        "id": "hOyMF5qJ31Ei"
      },
      "execution_count": null,
      "outputs": []
    },
    {
      "cell_type": "code",
      "source": [
        "# Define the hyperparameter grid for the dense model\n",
        "param_grid = {\n",
        "    'dense_1_units': [512, 1024],    'dropout_rate': [0.2, 0.3, 0.4],\n",
        "    'activation': ['relu', 'tanh'],\n",
        "    'optimizer': ['adam', 'sgd']\n",
        "}"
      ],
      "metadata": {
        "id": "kPRObV7T8YGX"
      },
      "execution_count": null,
      "outputs": []
    },
    {
      "cell_type": "code",
      "source": [
        "# Perform hyperparameter tuning with GridSearchCV\n",
        "grid_search = GridSearchCV(model, param_grid, cv=5, scoring='accuracy')\n",
        "grid_search.fit(X_train, y_train)"
      ],
      "metadata": {
        "id": "pGjWDW9h_xW9"
      },
      "execution_count": null,
      "outputs": []
    },
    {
      "cell_type": "code",
      "source": [
        "\n",
        "from scikeras.wrappers import KerasClassifier, KerasRegressor"
      ],
      "metadata": {
        "id": "lPLegYf5B6vt"
      },
      "execution_count": null,
      "outputs": []
    },
    {
      "cell_type": "code",
      "source": [
        "# Random Search\n",
        "random_search = RandomizedSearchCV(estimator=model, param_distributions=param_grid, n_iter=5, cv=3, scoring='accuracy')\n",
        "random_result = random_search.fit(X_train, y_train)"
      ],
      "metadata": {
        "id": "GNSc93Wu_7fV"
      },
      "execution_count": null,
      "outputs": []
    },
    {
      "cell_type": "code",
      "source": [
        "\n",
        "# Perform hyperparameter tuning with GridSearchCV\n",
        "grid_search = GridSearchCV(model, param_grid, cv=5, scoring='accuracy')\n",
        "grid_search.fit(X_train, y_train)\n",
        "random_search = RandomizedSearchCV(model1, param_grid, cv=5, scoring='accuracy', n_iter=10)\n",
        "random_search.fit(X_train, y_train)"
      ],
      "metadata": {
        "id": "mE7qiDxc31Mg"
      },
      "execution_count": null,
      "outputs": []
    },
    {
      "cell_type": "code",
      "source": [],
      "metadata": {
        "id": "SloK5opl8YSM"
      },
      "execution_count": null,
      "outputs": []
    },
    {
      "cell_type": "code",
      "source": [],
      "metadata": {
        "id": "aKvVvk1t8YUq"
      },
      "execution_count": null,
      "outputs": []
    },
    {
      "cell_type": "code",
      "source": [],
      "metadata": {
        "id": "bPIp7ulT8YXH"
      },
      "execution_count": null,
      "outputs": []
    },
    {
      "cell_type": "code",
      "source": [],
      "metadata": {
        "id": "JsC7yuq28YZs"
      },
      "execution_count": null,
      "outputs": []
    },
    {
      "cell_type": "code",
      "source": [],
      "metadata": {
        "id": "pWiMZeDV8YdP"
      },
      "execution_count": null,
      "outputs": []
    },
    {
      "cell_type": "code",
      "source": [
        "import numpy as np\n",
        "import matplotlib.pyplot as plt\n",
        "from sklearn.model_selection import GridSearchCV, RandomizedSearchCV, train_test_split\n",
        "from sklearn.metrics import accuracy_score, f1_score\n",
        "from keras.datasets import mnist\n",
        "from keras.models import Sequential\n",
        "from keras.layers import Dense, Conv2D, Flatten\n",
        "\n",
        "# Load and preprocess the MNIST dataset\n",
        "(X_train, y_train), (X_test, y_test) = mnist.load_data()\n",
        "X_train = X_train.astype('float32') / 255.0\n",
        "X_test = X_test.astype('float32') / 255.0\n",
        "X_train = X_train.reshape(-1, 28, 28, 1)\n",
        "X_test = X_test.reshape(-1, 28, 28, 1)\n",
        "\n",
        "# Split data into train and validation sets\n",
        "X_train, X_val, y_train, y_val = train_test_split(X_train, y_train, test_size=0.2, random_state=42)\n",
        "\n",
        "# Define model architectures (e.g., a simple dense network and a CNN)\n",
        "model1 = Sequential([\n",
        "    Flatten(input_shape=(28, 28, 1)),\n",
        "    Dense(512, activation='relu'),\n",
        "    Dense(10, activation='softmax')\n",
        "])\n",
        "\n",
        "model2 = Sequential([\n",
        "    Conv2D(32, (3, 3), activation='relu', input_shape=(28, 28, 1)),\n",
        "    Flatten(),\n",
        "    Dense(128, activation='relu'),\n",
        "    Dense(10, activation='softmax')\n",
        "])\n",
        "\n",
        "# Define hyperparameter grids for each model\n",
        "param_grid1 = {\n",
        "    'dense_1_units': [512, 1024],\n",
        "    'activation': ['relu', 'tanh'],\n",
        "    'optimizer': ['adam', 'sgd']\n",
        "}\n",
        "\n",
        "param_grid2 = {\n",
        "    'conv2d_1_filters': [32, 64],\n",
        "    'kernel_size': [(3, 3), (5, 5)],\n",
        "    'learning_rate': [0.001, 0.01]\n",
        "}\n",
        "\n",
        "# Perform hyperparameter tuning with GridSearchCV or RandomizedSearchCV\n",
        "grid_search1 = GridSearchCV(model1, param_grid1, cv=5, scoring='accuracy')\n",
        "grid_search2 = RandomizedSearchCV(model2, param_grid2, cv=5, n_iter=10, scoring='f1')\n",
        "\n",
        "# Train and evaluate models\n",
        "grid_search1.fit(X_train, y_train)\n",
        "grid_search2.fit(X_train, y_train)\n",
        "\n",
        "best_model1 = grid_search1.best_estimator_\n",
        "best_model2 = grid_search2.best_estimator_\n",
        "\n",
        "y_pred1 = best_model1.predict(X_val)\n",
        "y_pred2 = best_model2.predict(X_val)\n",
        "\n",
        "accuracy1 = accuracy_score(y_val, y_pred1)\n",
        "f1_score1 = f1_score(y_val, y_pred1)\n",
        "\n",
        "accuracy2 = accuracy_score(y_val, y_pred2)\n"
      ],
      "metadata": {
        "id": "rk5PA9pI31UA"
      },
      "execution_count": null,
      "outputs": []
    },
    {
      "cell_type": "code",
      "source": [],
      "metadata": {
        "id": "kEQ3CPAx31Yk"
      },
      "execution_count": null,
      "outputs": []
    },
    {
      "cell_type": "code",
      "source": [],
      "metadata": {
        "id": "2xlvUJ1r31cZ"
      },
      "execution_count": null,
      "outputs": []
    }
  ]
}